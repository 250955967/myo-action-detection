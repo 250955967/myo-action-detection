{
 "cells": [
  {
   "cell_type": "code",
   "execution_count": 3,
   "id": "administrative-sharing",
   "metadata": {
    "ExecuteTime": {
     "end_time": "2021-01-17T05:25:43.287596Z",
     "start_time": "2021-01-17T05:25:43.283946Z"
    }
   },
   "outputs": [],
   "source": [
    "import matplotlib.pyplot as plt\n",
    "import pandas as pd\n",
    "import seaborn as sns\n",
    "from sklearn import preprocessing\n",
    "from sklearn.ensemble import RandomForestClassifier"
   ]
  },
  {
   "cell_type": "code",
   "execution_count": 4,
   "id": "featured-layout",
   "metadata": {
    "ExecuteTime": {
     "end_time": "2021-01-17T05:25:43.301833Z",
     "start_time": "2021-01-17T05:25:43.290543Z"
    }
   },
   "outputs": [],
   "source": [
    "df = pd.read_csv('../output/gesture_data.csv')"
   ]
  },
  {
   "cell_type": "code",
   "execution_count": 5,
   "id": "active-exclusion",
   "metadata": {
    "ExecuteTime": {
     "end_time": "2021-01-17T05:25:43.321901Z",
     "start_time": "2021-01-17T05:25:43.304262Z"
    }
   },
   "outputs": [
    {
     "data": {
      "text/html": [
       "<div>\n",
       "<style scoped>\n",
       "    .dataframe tbody tr th:only-of-type {\n",
       "        vertical-align: middle;\n",
       "    }\n",
       "\n",
       "    .dataframe tbody tr th {\n",
       "        vertical-align: top;\n",
       "    }\n",
       "\n",
       "    .dataframe thead th {\n",
       "        text-align: right;\n",
       "    }\n",
       "</style>\n",
       "<table border=\"1\" class=\"dataframe\">\n",
       "  <thead>\n",
       "    <tr style=\"text-align: right;\">\n",
       "      <th></th>\n",
       "      <th>0</th>\n",
       "      <th>1</th>\n",
       "      <th>2</th>\n",
       "      <th>3</th>\n",
       "      <th>4</th>\n",
       "      <th>5</th>\n",
       "      <th>6</th>\n",
       "      <th>7</th>\n",
       "      <th>gesture</th>\n",
       "    </tr>\n",
       "  </thead>\n",
       "  <tbody>\n",
       "    <tr>\n",
       "      <th>0</th>\n",
       "      <td>5.44</td>\n",
       "      <td>7.20</td>\n",
       "      <td>2.48</td>\n",
       "      <td>5.98</td>\n",
       "      <td>2.90</td>\n",
       "      <td>4.10</td>\n",
       "      <td>2.74</td>\n",
       "      <td>2.80</td>\n",
       "      <td>大拇指</td>\n",
       "    </tr>\n",
       "    <tr>\n",
       "      <th>1</th>\n",
       "      <td>2.46</td>\n",
       "      <td>8.28</td>\n",
       "      <td>2.74</td>\n",
       "      <td>1.96</td>\n",
       "      <td>1.64</td>\n",
       "      <td>1.60</td>\n",
       "      <td>2.38</td>\n",
       "      <td>1.64</td>\n",
       "      <td>大拇指</td>\n",
       "    </tr>\n",
       "    <tr>\n",
       "      <th>2</th>\n",
       "      <td>2.50</td>\n",
       "      <td>11.18</td>\n",
       "      <td>2.96</td>\n",
       "      <td>2.28</td>\n",
       "      <td>1.70</td>\n",
       "      <td>1.72</td>\n",
       "      <td>2.14</td>\n",
       "      <td>1.90</td>\n",
       "      <td>大拇指</td>\n",
       "    </tr>\n",
       "    <tr>\n",
       "      <th>3</th>\n",
       "      <td>2.36</td>\n",
       "      <td>11.26</td>\n",
       "      <td>3.68</td>\n",
       "      <td>2.72</td>\n",
       "      <td>1.86</td>\n",
       "      <td>1.70</td>\n",
       "      <td>1.98</td>\n",
       "      <td>1.50</td>\n",
       "      <td>大拇指</td>\n",
       "    </tr>\n",
       "    <tr>\n",
       "      <th>4</th>\n",
       "      <td>2.94</td>\n",
       "      <td>12.76</td>\n",
       "      <td>2.92</td>\n",
       "      <td>2.22</td>\n",
       "      <td>1.90</td>\n",
       "      <td>1.94</td>\n",
       "      <td>1.84</td>\n",
       "      <td>2.08</td>\n",
       "      <td>大拇指</td>\n",
       "    </tr>\n",
       "  </tbody>\n",
       "</table>\n",
       "</div>"
      ],
      "text/plain": [
       "      0      1     2     3     4     5     6     7 gesture\n",
       "0  5.44   7.20  2.48  5.98  2.90  4.10  2.74  2.80     大拇指\n",
       "1  2.46   8.28  2.74  1.96  1.64  1.60  2.38  1.64     大拇指\n",
       "2  2.50  11.18  2.96  2.28  1.70  1.72  2.14  1.90     大拇指\n",
       "3  2.36  11.26  3.68  2.72  1.86  1.70  1.98  1.50     大拇指\n",
       "4  2.94  12.76  2.92  2.22  1.90  1.94  1.84  2.08     大拇指"
      ]
     },
     "execution_count": 5,
     "metadata": {},
     "output_type": "execute_result"
    }
   ],
   "source": [
    "df.head()"
   ]
  },
  {
   "cell_type": "markdown",
   "id": "wound-relation",
   "metadata": {
    "ExecuteTime": {
     "end_time": "2021-01-16T16:21:31.729789Z",
     "start_time": "2021-01-16T16:21:31.564531Z"
    }
   },
   "source": [
    "## 数据观察"
   ]
  },
  {
   "cell_type": "code",
   "execution_count": 6,
   "id": "indonesian-empire",
   "metadata": {
    "ExecuteTime": {
     "end_time": "2021-01-17T05:25:43.330911Z",
     "start_time": "2021-01-17T05:25:43.324151Z"
    }
   },
   "outputs": [],
   "source": [
    "df1 = df.set_index('gesture').stack().reset_index()\n",
    "df1.columns= ['g','n','v']"
   ]
  },
  {
   "cell_type": "code",
   "execution_count": 22,
   "id": "ahead-remainder",
   "metadata": {
    "ExecuteTime": {
     "end_time": "2021-01-17T05:27:52.754203Z",
     "start_time": "2021-01-17T05:27:52.750369Z"
    }
   },
   "outputs": [],
   "source": [
    "def data_process1(df):\n",
    "    \"\"\"\n",
    "\n",
    "    :param df:\n",
    "    :return:\n",
    "    \"\"\"\n",
    "    le = preprocessing.LabelEncoder()\n",
    "    labels = le.fit_transform(df['gesture'])\n",
    "    cols = [str(i) for i in range(8)]\n",
    "    data = df[cols].values\n",
    "    return data, labels"
   ]
  },
  {
   "cell_type": "code",
   "execution_count": 23,
   "id": "confused-cable",
   "metadata": {
    "ExecuteTime": {
     "end_time": "2021-01-17T05:28:05.069042Z",
     "start_time": "2021-01-17T05:28:05.064853Z"
    }
   },
   "outputs": [],
   "source": [
    "data, labels = data_process1(df)"
   ]
  },
  {
   "cell_type": "code",
   "execution_count": 9,
   "id": "reliable-details",
   "metadata": {
    "ExecuteTime": {
     "end_time": "2021-01-17T05:25:43.355102Z",
     "start_time": "2021-01-17T05:25:43.352888Z"
    }
   },
   "outputs": [],
   "source": [
    "# plt.figure(figsize = (15,10))\n",
    "# sns.barplot(x='g',y='v',data = df1, hue = 'n')"
   ]
  },
  {
   "cell_type": "code",
   "execution_count": 30,
   "id": "complimentary-concord",
   "metadata": {
    "ExecuteTime": {
     "end_time": "2021-01-17T05:31:28.872674Z",
     "start_time": "2021-01-17T05:31:28.077508Z"
    }
   },
   "outputs": [
    {
     "data": {
      "text/plain": [
       "array([0.89880952, 0.95238095, 0.94047619, 0.9702381 , 0.94047619])"
      ]
     },
     "execution_count": 30,
     "metadata": {},
     "output_type": "execute_result"
    }
   ],
   "source": [
    "clf = RandomForestClassifier()\n",
    "from sklearn.model_selection import cross_val_score\n",
    "cross_val_score(clf, data, labels, cv=5)"
   ]
  },
  {
   "cell_type": "code",
   "execution_count": null,
   "id": "hollow-hardware",
   "metadata": {},
   "outputs": [],
   "source": []
  }
 ],
 "metadata": {
  "hide_input": false,
  "kernelspec": {
   "display_name": "Python 3",
   "language": "python",
   "name": "python3"
  },
  "language_info": {
   "codemirror_mode": {
    "name": "ipython",
    "version": 3
   },
   "file_extension": ".py",
   "mimetype": "text/x-python",
   "name": "python",
   "nbconvert_exporter": "python",
   "pygments_lexer": "ipython3",
   "version": "3.6.5"
  },
  "toc": {
   "base_numbering": 1,
   "nav_menu": {},
   "number_sections": false,
   "sideBar": true,
   "skip_h1_title": false,
   "title_cell": "Table of Contents",
   "title_sidebar": "Contents",
   "toc_cell": false,
   "toc_position": {},
   "toc_section_display": true,
   "toc_window_display": false
  },
  "varInspector": {
   "cols": {
    "lenName": 16,
    "lenType": 16,
    "lenVar": 40
   },
   "kernels_config": {
    "python": {
     "delete_cmd_postfix": "",
     "delete_cmd_prefix": "del ",
     "library": "var_list.py",
     "varRefreshCmd": "print(var_dic_list())"
    },
    "r": {
     "delete_cmd_postfix": ") ",
     "delete_cmd_prefix": "rm(",
     "library": "var_list.r",
     "varRefreshCmd": "cat(var_dic_list()) "
    }
   },
   "types_to_exclude": [
    "module",
    "function",
    "builtin_function_or_method",
    "instance",
    "_Feature"
   ],
   "window_display": false
  }
 },
 "nbformat": 4,
 "nbformat_minor": 5
}
